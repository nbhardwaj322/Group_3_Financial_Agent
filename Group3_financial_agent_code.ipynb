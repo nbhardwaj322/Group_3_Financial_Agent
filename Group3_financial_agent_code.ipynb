{
  "nbformat": 4,
  "nbformat_minor": 0,
  "metadata": {
    "colab": {
      "provenance": []
    },
    "kernelspec": {
      "name": "python3",
      "display_name": "Python 3"
    },
    "language_info": {
      "name": "python"
    }
  },
  "cells": [
    {
      "cell_type": "markdown",
      "source": [
        "Group 3 -Finance  Agentic Project"
      ],
      "metadata": {
        "id": "XlBV0H16JMhS"
      }
    },
    {
      "cell_type": "code",
      "source": [
        "!pip install --upgrade pip\n",
        "!pip install yfinance transformers sentence-transformers faiss-cpu"
      ],
      "metadata": {
        "colab": {
          "base_uri": "https://localhost:8080/"
        },
        "collapsed": true,
        "id": "SUMeLhH8Vu6E",
        "outputId": "d9b14e10-2aa4-4421-d475-6b56fc4de8ca"
      },
      "execution_count": null,
      "outputs": [
        {
          "output_type": "stream",
          "name": "stdout",
          "text": [
            "Requirement already satisfied: pip in /usr/local/lib/python3.12/dist-packages (24.1.2)\n",
            "Collecting pip\n",
            "  Downloading pip-25.2-py3-none-any.whl.metadata (4.7 kB)\n",
            "Downloading pip-25.2-py3-none-any.whl (1.8 MB)\n",
            "\u001b[2K   \u001b[90m━━━━━━━━━━━━━━━━━━━━━━━━━━━━━━━━━━━━━━━━\u001b[0m \u001b[32m1.8/1.8 MB\u001b[0m \u001b[31m21.0 MB/s\u001b[0m eta \u001b[36m0:00:00\u001b[0m\n",
            "\u001b[?25hInstalling collected packages: pip\n",
            "  Attempting uninstall: pip\n",
            "    Found existing installation: pip 24.1.2\n",
            "    Uninstalling pip-24.1.2:\n",
            "      Successfully uninstalled pip-24.1.2\n",
            "Successfully installed pip-25.2\n",
            "Requirement already satisfied: yfinance in /usr/local/lib/python3.12/dist-packages (0.2.66)\n",
            "Requirement already satisfied: transformers in /usr/local/lib/python3.12/dist-packages (4.57.1)\n",
            "Requirement already satisfied: sentence-transformers in /usr/local/lib/python3.12/dist-packages (5.1.1)\n",
            "Collecting faiss-cpu\n",
            "  Downloading faiss_cpu-1.12.0-cp312-cp312-manylinux_2_27_x86_64.manylinux_2_28_x86_64.whl.metadata (5.1 kB)\n",
            "Requirement already satisfied: pandas>=1.3.0 in /usr/local/lib/python3.12/dist-packages (from yfinance) (2.2.2)\n",
            "Requirement already satisfied: numpy>=1.16.5 in /usr/local/lib/python3.12/dist-packages (from yfinance) (2.0.2)\n",
            "Requirement already satisfied: requests>=2.31 in /usr/local/lib/python3.12/dist-packages (from yfinance) (2.32.4)\n",
            "Requirement already satisfied: multitasking>=0.0.7 in /usr/local/lib/python3.12/dist-packages (from yfinance) (0.0.12)\n",
            "Requirement already satisfied: platformdirs>=2.0.0 in /usr/local/lib/python3.12/dist-packages (from yfinance) (4.5.0)\n",
            "Requirement already satisfied: pytz>=2022.5 in /usr/local/lib/python3.12/dist-packages (from yfinance) (2025.2)\n",
            "Requirement already satisfied: frozendict>=2.3.4 in /usr/local/lib/python3.12/dist-packages (from yfinance) (2.4.6)\n",
            "Requirement already satisfied: peewee>=3.16.2 in /usr/local/lib/python3.12/dist-packages (from yfinance) (3.18.2)\n",
            "Requirement already satisfied: beautifulsoup4>=4.11.1 in /usr/local/lib/python3.12/dist-packages (from yfinance) (4.13.5)\n",
            "Requirement already satisfied: curl_cffi>=0.7 in /usr/local/lib/python3.12/dist-packages (from yfinance) (0.13.0)\n",
            "Requirement already satisfied: protobuf>=3.19.0 in /usr/local/lib/python3.12/dist-packages (from yfinance) (5.29.5)\n",
            "Requirement already satisfied: websockets>=13.0 in /usr/local/lib/python3.12/dist-packages (from yfinance) (15.0.1)\n",
            "Requirement already satisfied: filelock in /usr/local/lib/python3.12/dist-packages (from transformers) (3.20.0)\n",
            "Requirement already satisfied: huggingface-hub<1.0,>=0.34.0 in /usr/local/lib/python3.12/dist-packages (from transformers) (0.35.3)\n",
            "Requirement already satisfied: packaging>=20.0 in /usr/local/lib/python3.12/dist-packages (from transformers) (25.0)\n",
            "Requirement already satisfied: pyyaml>=5.1 in /usr/local/lib/python3.12/dist-packages (from transformers) (6.0.3)\n",
            "Requirement already satisfied: regex!=2019.12.17 in /usr/local/lib/python3.12/dist-packages (from transformers) (2024.11.6)\n",
            "Requirement already satisfied: tokenizers<=0.23.0,>=0.22.0 in /usr/local/lib/python3.12/dist-packages (from transformers) (0.22.1)\n",
            "Requirement already satisfied: safetensors>=0.4.3 in /usr/local/lib/python3.12/dist-packages (from transformers) (0.6.2)\n",
            "Requirement already satisfied: tqdm>=4.27 in /usr/local/lib/python3.12/dist-packages (from transformers) (4.67.1)\n",
            "Requirement already satisfied: fsspec>=2023.5.0 in /usr/local/lib/python3.12/dist-packages (from huggingface-hub<1.0,>=0.34.0->transformers) (2025.3.0)\n",
            "Requirement already satisfied: typing-extensions>=3.7.4.3 in /usr/local/lib/python3.12/dist-packages (from huggingface-hub<1.0,>=0.34.0->transformers) (4.15.0)\n",
            "Requirement already satisfied: hf-xet<2.0.0,>=1.1.3 in /usr/local/lib/python3.12/dist-packages (from huggingface-hub<1.0,>=0.34.0->transformers) (1.1.10)\n",
            "Requirement already satisfied: torch>=1.11.0 in /usr/local/lib/python3.12/dist-packages (from sentence-transformers) (2.8.0+cu126)\n",
            "Requirement already satisfied: scikit-learn in /usr/local/lib/python3.12/dist-packages (from sentence-transformers) (1.6.1)\n",
            "Requirement already satisfied: scipy in /usr/local/lib/python3.12/dist-packages (from sentence-transformers) (1.16.2)\n",
            "Requirement already satisfied: Pillow in /usr/local/lib/python3.12/dist-packages (from sentence-transformers) (11.3.0)\n",
            "Requirement already satisfied: soupsieve>1.2 in /usr/local/lib/python3.12/dist-packages (from beautifulsoup4>=4.11.1->yfinance) (2.8)\n",
            "Requirement already satisfied: cffi>=1.12.0 in /usr/local/lib/python3.12/dist-packages (from curl_cffi>=0.7->yfinance) (2.0.0)\n",
            "Requirement already satisfied: certifi>=2024.2.2 in /usr/local/lib/python3.12/dist-packages (from curl_cffi>=0.7->yfinance) (2025.10.5)\n",
            "Requirement already satisfied: pycparser in /usr/local/lib/python3.12/dist-packages (from cffi>=1.12.0->curl_cffi>=0.7->yfinance) (2.23)\n",
            "Requirement already satisfied: python-dateutil>=2.8.2 in /usr/local/lib/python3.12/dist-packages (from pandas>=1.3.0->yfinance) (2.9.0.post0)\n",
            "Requirement already satisfied: tzdata>=2022.7 in /usr/local/lib/python3.12/dist-packages (from pandas>=1.3.0->yfinance) (2025.2)\n",
            "Requirement already satisfied: six>=1.5 in /usr/local/lib/python3.12/dist-packages (from python-dateutil>=2.8.2->pandas>=1.3.0->yfinance) (1.17.0)\n",
            "Requirement already satisfied: charset_normalizer<4,>=2 in /usr/local/lib/python3.12/dist-packages (from requests>=2.31->yfinance) (3.4.4)\n",
            "Requirement already satisfied: idna<4,>=2.5 in /usr/local/lib/python3.12/dist-packages (from requests>=2.31->yfinance) (3.11)\n",
            "Requirement already satisfied: urllib3<3,>=1.21.1 in /usr/local/lib/python3.12/dist-packages (from requests>=2.31->yfinance) (2.5.0)\n",
            "Requirement already satisfied: setuptools in /usr/local/lib/python3.12/dist-packages (from torch>=1.11.0->sentence-transformers) (75.2.0)\n",
            "Requirement already satisfied: sympy>=1.13.3 in /usr/local/lib/python3.12/dist-packages (from torch>=1.11.0->sentence-transformers) (1.13.3)\n",
            "Requirement already satisfied: networkx in /usr/local/lib/python3.12/dist-packages (from torch>=1.11.0->sentence-transformers) (3.5)\n",
            "Requirement already satisfied: jinja2 in /usr/local/lib/python3.12/dist-packages (from torch>=1.11.0->sentence-transformers) (3.1.6)\n",
            "Requirement already satisfied: nvidia-cuda-nvrtc-cu12==12.6.77 in /usr/local/lib/python3.12/dist-packages (from torch>=1.11.0->sentence-transformers) (12.6.77)\n",
            "Requirement already satisfied: nvidia-cuda-runtime-cu12==12.6.77 in /usr/local/lib/python3.12/dist-packages (from torch>=1.11.0->sentence-transformers) (12.6.77)\n",
            "Requirement already satisfied: nvidia-cuda-cupti-cu12==12.6.80 in /usr/local/lib/python3.12/dist-packages (from torch>=1.11.0->sentence-transformers) (12.6.80)\n",
            "Requirement already satisfied: nvidia-cudnn-cu12==9.10.2.21 in /usr/local/lib/python3.12/dist-packages (from torch>=1.11.0->sentence-transformers) (9.10.2.21)\n",
            "Requirement already satisfied: nvidia-cublas-cu12==12.6.4.1 in /usr/local/lib/python3.12/dist-packages (from torch>=1.11.0->sentence-transformers) (12.6.4.1)\n",
            "Requirement already satisfied: nvidia-cufft-cu12==11.3.0.4 in /usr/local/lib/python3.12/dist-packages (from torch>=1.11.0->sentence-transformers) (11.3.0.4)\n",
            "Requirement already satisfied: nvidia-curand-cu12==10.3.7.77 in /usr/local/lib/python3.12/dist-packages (from torch>=1.11.0->sentence-transformers) (10.3.7.77)\n",
            "Requirement already satisfied: nvidia-cusolver-cu12==11.7.1.2 in /usr/local/lib/python3.12/dist-packages (from torch>=1.11.0->sentence-transformers) (11.7.1.2)\n",
            "Requirement already satisfied: nvidia-cusparse-cu12==12.5.4.2 in /usr/local/lib/python3.12/dist-packages (from torch>=1.11.0->sentence-transformers) (12.5.4.2)\n",
            "Requirement already satisfied: nvidia-cusparselt-cu12==0.7.1 in /usr/local/lib/python3.12/dist-packages (from torch>=1.11.0->sentence-transformers) (0.7.1)\n",
            "Requirement already satisfied: nvidia-nccl-cu12==2.27.3 in /usr/local/lib/python3.12/dist-packages (from torch>=1.11.0->sentence-transformers) (2.27.3)\n",
            "Requirement already satisfied: nvidia-nvtx-cu12==12.6.77 in /usr/local/lib/python3.12/dist-packages (from torch>=1.11.0->sentence-transformers) (12.6.77)\n",
            "Requirement already satisfied: nvidia-nvjitlink-cu12==12.6.85 in /usr/local/lib/python3.12/dist-packages (from torch>=1.11.0->sentence-transformers) (12.6.85)\n",
            "Requirement already satisfied: nvidia-cufile-cu12==1.11.1.6 in /usr/local/lib/python3.12/dist-packages (from torch>=1.11.0->sentence-transformers) (1.11.1.6)\n",
            "Requirement already satisfied: triton==3.4.0 in /usr/local/lib/python3.12/dist-packages (from torch>=1.11.0->sentence-transformers) (3.4.0)\n",
            "Requirement already satisfied: mpmath<1.4,>=1.1.0 in /usr/local/lib/python3.12/dist-packages (from sympy>=1.13.3->torch>=1.11.0->sentence-transformers) (1.3.0)\n",
            "Requirement already satisfied: MarkupSafe>=2.0 in /usr/local/lib/python3.12/dist-packages (from jinja2->torch>=1.11.0->sentence-transformers) (3.0.3)\n",
            "Requirement already satisfied: joblib>=1.2.0 in /usr/local/lib/python3.12/dist-packages (from scikit-learn->sentence-transformers) (1.5.2)\n",
            "Requirement already satisfied: threadpoolctl>=3.1.0 in /usr/local/lib/python3.12/dist-packages (from scikit-learn->sentence-transformers) (3.6.0)\n",
            "Downloading faiss_cpu-1.12.0-cp312-cp312-manylinux_2_27_x86_64.manylinux_2_28_x86_64.whl (31.4 MB)\n",
            "\u001b[2K   \u001b[90m━━━━━━━━━━━━━━━━━━━━━━━━━━━━━━━━━━━━━━━━\u001b[0m \u001b[32m31.4/31.4 MB\u001b[0m \u001b[31m96.6 MB/s\u001b[0m  \u001b[33m0:00:00\u001b[0m\n",
            "\u001b[?25hInstalling collected packages: faiss-cpu\n",
            "Successfully installed faiss-cpu-1.12.0\n"
          ]
        }
      ]
    },
    {
      "cell_type": "code",
      "source": [
        "import yfinance as yf\n",
        "import pandas as pd\n",
        "import numpy as np\n",
        "import faiss\n",
        "from transformers import pipeline\n",
        "from sentence_transformers import SentenceTransformer"
      ],
      "metadata": {
        "id": "GOr8b7cuWBXV"
      },
      "execution_count": null,
      "outputs": []
    },
    {
      "cell_type": "markdown",
      "source": [
        "PlannerAgent - The agent begins by outlining a structured plan for analyzing a stock, including collecting one year of historical price\n",
        "and volume data, computing key market trends, and generating an evaluation summary.\n",
        "This step sets the foundation for methodical and reusable research logic"
      ],
      "metadata": {
        "id": "DftUzOQ8HVs3"
      }
    },
    {
      "cell_type": "code",
      "source": [
        "class PlannerAgent:\n",
        "    def plan_research(self, ticker):\n",
        "        steps = [\n",
        "            \"Collect 1 year historical data for \" + ticker,\n",
        "            \"Compute price and volume trends for \" + ticker,\n",
        "            \"Generate short term outlook and evaluation summary for \" + ticker\n",
        "        ]\n",
        "        return steps\n",
        "\n",
        "# Test PlannerAgent for AAPL\n",
        "planner = PlannerAgent()\n",
        "plan = planner.plan_research(\"AAPL\")\n",
        "print(\"Planner Agent Output\")\n",
        "for s in plan:\n",
        "    print(\"-\", s)\n"
      ],
      "metadata": {
        "colab": {
          "base_uri": "https://localhost:8080/"
        },
        "id": "Qf4zEI31XZEm",
        "outputId": "d8fb03dd-3455-4330-e8f7-3edbde9ba2eb"
      },
      "execution_count": null,
      "outputs": [
        {
          "output_type": "stream",
          "name": "stdout",
          "text": [
            "Planner Agent Output\n",
            "- Collect 1 year historical data for AAPL\n",
            "- Compute price and volume trends for AAPL\n",
            "- Generate short term outlook and evaluation summary for AAPL\n"
          ]
        }
      ]
    },
    {
      "cell_type": "markdown",
      "source": [
        "2.\tData Acquisition (DataAgent)\n",
        "Historical daily price data is fetched directly from Yahoo Finance's public API, focusing on recent 1-year trading activity. The data is cleaned and validated, particularly extracting the closing price to assess recent market behavior.\n"
      ],
      "metadata": {
        "id": "BCl1NehOG-Mp"
      }
    },
    {
      "cell_type": "code",
      "source": [
        "class DataAgent:\n",
        "    def get_yahoo_data(self, ticker):\n",
        "        df = yf.download(ticker, period=\"1y\", interval=\"1d\", progress=False)\n",
        "        if df is None or df.empty:\n",
        "            print(\"Warning No data found for\", ticker)\n",
        "            return pd.DataFrame()\n",
        "        df_tail = df.tail(10)\n",
        "        if \"Close\" not in df_tail.columns or df_tail[\"Close\"].dropna().empty:\n",
        "            print(\"Warning No closing price data for\", ticker)\n",
        "            return pd.DataFrame()\n",
        "        return df_tail\n",
        "\n",
        "# Test DataAgent for AAPL\n",
        "data_agent = DataAgent()\n",
        "df = data_agent.get_yahoo_data(\"AAPL\")\n",
        "print(\"Data Agent Output (Tail 10 Days)\")\n",
        "print(df)\n"
      ],
      "metadata": {
        "colab": {
          "base_uri": "https://localhost:8080/"
        },
        "id": "iSFJx-wjYxqT",
        "outputId": "b24f0810-9047-4f70-f11d-2f51cf48016d"
      },
      "execution_count": null,
      "outputs": [
        {
          "output_type": "stream",
          "name": "stderr",
          "text": [
            "/tmp/ipython-input-614755891.py:3: FutureWarning: YF.download() has changed argument auto_adjust default to True\n",
            "  df = yf.download(ticker, period=\"1y\", interval=\"1d\", progress=False)\n"
          ]
        },
        {
          "output_type": "stream",
          "name": "stdout",
          "text": [
            "Data Agent Output (Tail 10 Days)\n",
            "Price            Close        High         Low        Open    Volume\n",
            "Ticker            AAPL        AAPL        AAPL        AAPL      AAPL\n",
            "Date                                                                \n",
            "2025-10-06  256.690002  259.070007  255.050003  257.989990  44664100\n",
            "2025-10-07  256.480011  257.399994  255.429993  256.809998  31955800\n",
            "2025-10-08  258.059998  258.519989  256.109985  256.519989  36496900\n",
            "2025-10-09  254.039993  258.000000  253.139999  257.809998  38322000\n",
            "2025-10-10  245.270004  256.380005  244.000000  254.940002  61999100\n",
            "2025-10-13  247.660004  249.690002  245.559998  249.380005  38142900\n",
            "2025-10-14  247.770004  248.850006  244.699997  246.600006  35478000\n",
            "2025-10-15  249.339996  251.820007  247.470001  249.490005  33893600\n",
            "2025-10-16  247.449997  249.039993  245.130005  248.250000  39777000\n",
            "2025-10-17  252.289993  253.380005  247.270004  248.020004  48876500\n"
          ]
        }
      ]
    },
    {
      "cell_type": "markdown",
      "source": [
        "3.\tMarket Trend Analysis (AnalysisAgent)\n",
        "Using the acquired data, the agent calculates daily returns to deduce average price change and volatility,\n",
        "thereby detecting whether the stock is trending upwards or downwards. This quantitative summary balances recent market dynamics.\n"
      ],
      "metadata": {
        "id": "fEVYXbH0HQpQ"
      }
    },
    {
      "cell_type": "code",
      "source": [
        "class AnalysisAgent:\n",
        "    def analyze_market_trend(self, df):\n",
        "        if df.empty:\n",
        "            return \"No Data\", 0.0, 0.0\n",
        "\n",
        "        # Handle MultiIndex columns from yfinance\n",
        "        if isinstance(df.columns, pd.MultiIndex):\n",
        "            try:\n",
        "                # Select the Close column for the first ticker\n",
        "                close_col = df[\"Close\"].iloc[:, 0]\n",
        "            except Exception as e:\n",
        "                print(\"Error accessing Close column:\", e)\n",
        "                return \"No Data\", 0.0, 0.0\n",
        "        else:\n",
        "            if \"Close\" in df.columns:\n",
        "                close_col = df[\"Close\"]\n",
        "            else:\n",
        "                print(\"No Close column found\")\n",
        "                return \"No Data\", 0.0, 0.0\n",
        "\n",
        "        daily_change = close_col.pct_change().dropna()\n",
        "        if daily_change.empty:\n",
        "            return \"No Data\", 0.0, 0.0\n",
        "\n",
        "        change = daily_change.mean() * 100\n",
        "        volatility = daily_change.std() * 100\n",
        "        trend = \"uptrend\" if change > 0 else \"downtrend\"\n",
        "        return trend, round(change, 2), round(volatility, 2)\n",
        "\n",
        "# Test AnalysisAgent for AAPL\n",
        "analysis_agent = AnalysisAgent()\n",
        "trend, change, volatility = analysis_agent.analyze_market_trend(df)\n",
        "print(\"Analysis Agent Output (Tail 10 Days)\")\n",
        "print(\"Trend:\", trend)\n",
        "print(\"Average Change:\", change)\n",
        "print(\"Volatility:\", volatility)\n"
      ],
      "metadata": {
        "colab": {
          "base_uri": "https://localhost:8080/"
        },
        "id": "7rzrZOcpY2Zr",
        "outputId": "8d669406-9ede-49e1-a2be-1a9c7ce57af5"
      },
      "execution_count": null,
      "outputs": [
        {
          "output_type": "stream",
          "name": "stdout",
          "text": [
            "Analysis Agent Output (Tail 10 Days)\n",
            "Trend: downtrend\n",
            "Average Change: -0.18\n",
            "Volatility: 1.59\n"
          ]
        }
      ]
    },
    {
      "cell_type": "markdown",
      "source": [
        "4.\tKeyword Extraction for News (Helper Function)\n",
        "To enhance decision-making, relevant keywords tied to the stock's ticker, industry, and sector are dynamically extracted from Yahoo Finance metadata.\n",
        "These keywords enable focused searches for news articles related to the stock.\n"
      ],
      "metadata": {
        "id": "GPIspOKIINUu"
      }
    },
    {
      "cell_type": "code",
      "source": [
        "import yfinance as yf\n",
        "\n",
        "def get_related_keywords(ticker):\n",
        "    t = yf.Ticker(ticker)\n",
        "    info = t.info\n",
        "    industry = info.get(\"industry\")\n",
        "    sector = info.get(\"sector\")\n",
        "    # Combine industry, sector, and ticker as search keywords\n",
        "    keywords = []\n",
        "    if ticker:\n",
        "        keywords.append(ticker)\n",
        "    if industry:\n",
        "        keywords.append(industry)\n",
        "    if sector:\n",
        "        keywords.append(sector)\n",
        "    return keywords\n",
        "\n",
        "# Example\n",
        "keywords = get_related_keywords(\"AAPL\")\n",
        "print(\"Keywords for news search:\", keywords)\n"
      ],
      "metadata": {
        "colab": {
          "base_uri": "https://localhost:8080/"
        },
        "id": "zJpmeTbcgU6o",
        "outputId": "5effc7d7-6cef-4b73-e8bb-c8ab6c122cb4"
      },
      "execution_count": null,
      "outputs": [
        {
          "output_type": "stream",
          "name": "stdout",
          "text": [
            "Keywords for news search: ['AAPL', 'Consumer Electronics', 'Technology']\n"
          ]
        }
      ]
    },
    {
      "cell_type": "markdown",
      "source": [
        "5.\tNews Retrieval and Summarization (NewsAgent)\n",
        "The agent fetches financial news headlines from multiple freely available RSS feeds\n",
        " (including Yahoo Finance, CNBC, and Reuters). Headlines are filtered by the keyword list\n",
        " to ensure topical relevance. The resulting brief news summary helps incorporate market sentiment and developments.\n"
      ],
      "metadata": {
        "id": "s0Be6FfcIalf"
      }
    },
    {
      "cell_type": "code",
      "source": [
        "import feedparser\n",
        "\n",
        "class NewsAgent:\n",
        "    def __init__(self, rss_urls=None):\n",
        "        if rss_urls is None:\n",
        "            rss_urls = [\n",
        "                \"https://finance.yahoo.com/rss/topstories\",\n",
        "                \"https://www.cnbc.com/id/100003114/device/rss/rss.html\",\n",
        "                \"https://www.reuters.com/rssFeed/technologyNews\"\n",
        "            ]\n",
        "        self.rss_urls = rss_urls\n",
        "\n",
        "    def fetch_news(self, ticker=None, max_articles=5):\n",
        "        headlines = []\n",
        "        keywords = get_related_keywords(ticker) if ticker else []\n",
        "\n",
        "        for url in self.rss_urls:\n",
        "            feed = feedparser.parse(url)\n",
        "            for entry in feed.entries:\n",
        "                headline = getattr(entry, \"title\", None)\n",
        "                if headline:\n",
        "                    # Check if any keyword appears in the headline\n",
        "                    if any(k.lower() in headline.lower() for k in keywords):\n",
        "                        headlines.append(headline)\n",
        "                if len(headlines) >= max_articles:\n",
        "                    break\n",
        "            if len(headlines) >= max_articles:\n",
        "                break\n",
        "        return headlines\n",
        "\n",
        "    def summarize_news(self, news_list):\n",
        "        return \" | \".join(news_list[:3]) if news_list else \"No news available\"\n",
        "\n",
        "# Test for Apple\n",
        "news_agent = NewsAgent()\n",
        "news_headlines = news_agent.fetch_news(\"AAPL\")\n",
        "news_summary = news_agent.summarize_news(news_headlines)\n",
        "\n",
        "print(\"\\nFiltered News Agent Output (Industry and Sector-related Headlines for AAPL)\")\n",
        "print(news_summary)\n"
      ],
      "metadata": {
        "colab": {
          "base_uri": "https://localhost:8080/"
        },
        "id": "ztRxgP5jgpjM",
        "outputId": "95373854-70ac-4bc3-a1c5-959b02df85ee"
      },
      "execution_count": null,
      "outputs": [
        {
          "output_type": "stream",
          "name": "stdout",
          "text": [
            "\n",
            "Filtered News Agent Output (Industry and Sector-related Headlines for AAPL)\n",
            "Alkami Technology (ALKT) Partners with HFC Union for New Mobile Banking Experience\n"
          ]
        }
      ]
    },
    {
      "cell_type": "markdown",
      "source": [
        "6.\tFinal Recommendation Generation (SummaryAgent)\n",
        "Utilizing a state-of-the-art natural language generation model (Google's Flan-T5),\n",
        "the agent synthesizes data trends and recent news to produce a clear \"buy\" or \"not buy\" recommendation.\n",
        "The output is concise, interpretable, and grounded only in available quantitative and textual data.\n"
      ],
      "metadata": {
        "id": "IuoRFirXIhkD"
      }
    },
    {
      "cell_type": "code",
      "source": [
        "class SummaryAgent:\n",
        "    def __init__(self):\n",
        "        self.llm = pipeline(\"text2text-generation\", model=\"google/flan-t5-base\")\n",
        "\n",
        "    def generate_summary(self, ticker, trend, change, volatility, news_summary):\n",
        "        prompt = (\n",
        "            f\"You are a financial assistant. You are required to give final recommendation as either - buy or not buy. Based only on the following information, \"\n",
        "            f\"provide a single clear recommendation for {ticker}.\\n\\n\"\n",
        "            f\"Trend: {trend}\\n\"\n",
        "            f\"Average Change: {change} percent\\n\"\n",
        "            f\"Volatility: {volatility} percent\\n\"\n",
        "            f\"News Highlights: {news_summary}\\n\\n\"\n",
        "            f\"Output format: Recommendation is it buy? or not buy?. \"\n",
        "            f\"Add stats from trend in the output. and recommendation : is it buy or not buy\"\n",
        "        )\n",
        "\n",
        "        response = self.llm(prompt, max_new_tokens=50)[0][\"generated_text\"].strip()\n",
        "\n",
        "        return response\n",
        "\n",
        "# Test\n",
        "summary_agent = SummaryAgent()\n",
        "final_summary = summary_agent.generate_summary(\"AAPL\", trend, change, volatility, news_summary)\n",
        "print(\"Summary Agent Output\")\n",
        "print(final_summary)\n"
      ],
      "metadata": {
        "colab": {
          "base_uri": "https://localhost:8080/"
        },
        "id": "0kXj_UzbmCeU",
        "outputId": "f98c0187-b522-43d9-ee58-8d221991a340"
      },
      "execution_count": null,
      "outputs": [
        {
          "output_type": "stream",
          "name": "stderr",
          "text": [
            "Device set to use cpu\n"
          ]
        },
        {
          "output_type": "stream",
          "name": "stdout",
          "text": [
            "Summary Agent Output\n",
            "buy\n"
          ]
        }
      ]
    },
    {
      "cell_type": "markdown",
      "source": [
        "7.\tKnowledge Embedding and Memory (MemoryAgent)\n",
        "Summaries and insights are stored using sentence embeddings and efficient similarity search (FAISS index)\n",
        "to maintain contextual memory. This allows future queries and expansions on past recommendations,\n",
        " supporting persistent and contextual financial advisory.\n"
      ],
      "metadata": {
        "id": "i29Za_ErIou3"
      }
    },
    {
      "cell_type": "code",
      "source": [
        "class MemoryAgent:\n",
        "    def __init__(self):\n",
        "        self.embedder = SentenceTransformer(\"all-MiniLM-L6-v2\")\n",
        "        self.index = faiss.IndexFlatL2(384)\n",
        "        self.memory = {}\n",
        "\n",
        "    def store_memory(self, ticker, text):\n",
        "        embedding = self.embedder.encode([text])\n",
        "        self.index.add(np.array(embedding, dtype=\"float32\"))\n",
        "        self.memory[ticker] = text\n",
        "\n",
        "memory_agent = MemoryAgent()\n",
        "memory_agent.store_memory(\"AAPL\", final_summary)\n",
        "print(\"Memory Agent Output for AAPL\")\n",
        "print(memory_agent.memory)\n"
      ],
      "metadata": {
        "colab": {
          "base_uri": "https://localhost:8080/"
        },
        "id": "EAUs1sX7Zkcz",
        "outputId": "78452eae-3c38-456b-f841-8126efda6d0a"
      },
      "execution_count": null,
      "outputs": [
        {
          "output_type": "stream",
          "name": "stdout",
          "text": [
            "Memory Agent Output for AAPL\n",
            "{'AAPL': 'buy'}\n"
          ]
        }
      ]
    },
    {
      "cell_type": "markdown",
      "source": [
        "8.\tQuality Evaluation (EvaluatorAgent)\n",
        "The clarity and usefulness of each recommendation are assessed by an expert-tuned language model,\n",
        "providing feedback on whether the output is actionable or needs refinement.\n",
        "This meta-review step ensures higher reliability in deployment scenarios.\n"
      ],
      "metadata": {
        "id": "qGQc5eJEI1B1"
      }
    },
    {
      "cell_type": "code",
      "source": [
        "class EvaluatorAgent:\n",
        "    def __init__(self):\n",
        "        self.llm = pipeline(\"text2text-generation\", model=\"google/flan-t5-base\")\n",
        "\n",
        "    def evaluate(self, summary_text):\n",
        "        prompt = (\n",
        "            f\"You are an expert financial analyst. Evaluate the clarity and usefulness \"\n",
        "            f\"of the following stock recommendation in one concise line. \"\n",
        "            f\"Provide suggestions if it is ambiguous.\\n\\n\"\n",
        "            f\"Recommendation Text: {summary_text}\\n\\n\"\n",
        "            f\"Output format: Yes, good recommendation  or Not, bad recommendation .\"\n",
        "        )\n",
        "\n",
        "        response = self.llm(prompt, max_new_tokens=50)[0][\"generated_text\"].strip()\n",
        "        return response\n",
        "\n",
        "# Test Evaluator Agent\n",
        "evaluator_agent = EvaluatorAgent()\n",
        "evaluation = evaluator_agent.evaluate(final_summary)\n",
        "print(\"Evaluator Agent Output\")\n",
        "print(evaluation)\n"
      ],
      "metadata": {
        "colab": {
          "base_uri": "https://localhost:8080/"
        },
        "id": "jp8IjDwDne7e",
        "outputId": "f9ecff02-229d-4770-975b-7c1516242c31"
      },
      "execution_count": null,
      "outputs": [
        {
          "output_type": "stream",
          "name": "stderr",
          "text": [
            "Device set to use cpu\n"
          ]
        },
        {
          "output_type": "stream",
          "name": "stdout",
          "text": [
            "Evaluator Agent Output\n",
            "Yes\n"
          ]
        }
      ]
    },
    {
      "cell_type": "code",
      "source": [],
      "metadata": {
        "id": "XMQP4jnPrL8I"
      },
      "execution_count": null,
      "outputs": []
    }
  ]
}